{
 "cells": [
  {
   "cell_type": "markdown",
   "metadata": {},
   "source": [
    "# Setup"
   ]
  },
  {
   "cell_type": "markdown",
   "metadata": {},
   "source": [
    "Let's import and initialize Spark, along with all the other libraries we're using (this might take a while)."
   ]
  },
  {
   "cell_type": "code",
   "execution_count": 1,
   "metadata": {},
   "outputs": [
    {
     "name": "stdout",
     "output_type": "stream",
     "text": [
      "Populating the interactive namespace from numpy and matplotlib\n",
      "Populating the interactive namespace from numpy and matplotlib\n"
     ]
    }
   ],
   "source": [
    "# Uncomment these if do this homework locally\n",
    "# See Homework 3 for details\n",
    "\n",
    "# from local_install import setup_environment\n",
    "# setup_environment() \n",
    "\n",
    "import folium\n",
    "import pyspark\n",
    "from pyspark.sql.types import *\n",
    "import matplotlib.pyplot as plt\n",
    "import numpy as np\n",
    "import os\n",
    "%pylab inline\n",
    "%pylab notebook"
   ]
  },
  {
   "cell_type": "code",
   "execution_count": 2,
   "metadata": {},
   "outputs": [],
   "source": [
    "sc = pyspark.SparkContext()\n",
    "sql = pyspark.sql.SQLContext(sc)"
   ]
  },
  {
   "cell_type": "markdown",
   "metadata": {},
   "source": [
    "# 1. DataFrames"
   ]
  },
  {
   "cell_type": "markdown",
   "metadata": {},
   "source": [
    "## 1a. File Format Wrangling"
   ]
  },
  {
   "cell_type": "markdown",
   "metadata": {},
   "source": [
    "### Begin Student Code Here"
   ]
  },
  {
   "cell_type": "markdown",
   "metadata": {},
   "source": [
    "Implement the loading of data files into DataFrame objects. First, unzip the data file into a local folder whose path is stored in 'root_path'."
   ]
  },
  {
   "cell_type": "code",
   "execution_count": 3,
   "metadata": {},
   "outputs": [],
   "source": [
    "root_path = \"./fec_2016_3_25\"\n",
    "\n",
    "# file_struct objects\n",
    "com_file = {'header': \"cm_header_file.csv\", 'data': \"cm.txt\" }\n",
    "can_file = {'header': \"cn_header_file.csv\", 'data': \"cn.txt\" }\n",
    "com_can_link_file = {'header': \"ccl_header_file.csv\", 'data': \"ccl.txt\" }\n",
    "indv_file = {'header': \"indiv_header_file.csv\", 'data': \"itcont.txt\" }\n",
    "pas_file = {'header': \"pas2_header_file.csv\", 'data': \"itpas2.txt\" }\n",
    "com_links_file = {'header': \"oth_header_file.csv\", 'data': \"itoth.txt\" }\n",
    "\n",
    "def load_header(filename):\n",
    "    \"\"\"\n",
    "    Given a header .csv file, return a list containing the names of all columns in the table.\n",
    "    \n",
    "    Input:\n",
    "    filename: a string specifying the header .csv file to load\n",
    "    \n",
    "    Output:\n",
    "    A list containing column names of the table\n",
    "    \"\"\"\n",
    "    with open(filename, \"r\") as f:\n",
    "        return [r.replace('\\r\\n','') for r in f.readline().split(\",\")]\n",
    "    \n",
    "def load_dataframe(file_struct):\n",
    "    \"\"\"\n",
    "    Given a dictionary representing the locations of FEC raw files corresponding to a table,\n",
    "    load the tables into a Spark DataFrame.\n",
    "    \n",
    "    Input:\n",
    "    file_struct: a dictionary containing the keys 'header' and 'data', where\n",
    "     'header' contains the name of the `.csv` file specifying the table header file, and\n",
    "     'data' contains the name of the `.txt` file specifying the table data file\n",
    "     \n",
    "    Output:\n",
    "    A DataFrame which contains the loaded data.\n",
    "    \"\"\"\n",
    "\n",
    "    # TODO\n",
    "    '''\n",
    "    lines = sc.textFile(root_path + \"/\"+ file_struct['data'])\n",
    "    parts = lines.map(lambda l: l.split(\"|\"))\n",
    "    rows = parts.map(lambda p: tuple(p))\n",
    "\n",
    "    # Schema\n",
    "    schemaList = load_header(root_path + \"/\"+ file_struct['header'])\n",
    "    schema = StructType([StructField(field_name, StringType(), True) for field_name in schemaList])\n",
    "    \n",
    "    df = sql.createDataFrame(rows, schema)\n",
    "    '''\n",
    "    headerPath = root_path + \"/\" + file_struct['header']\n",
    "    schemaList = load_header(headerPath)\n",
    "    fields = [StructField(field_name, StringType(), True) for field_name in schemaList]\n",
    "    schema = StructType(fields)\n",
    "    \n",
    "    linesPath = root_path + \"/\" + file_struct['data']\n",
    "    lines = sc.textFile(linesPath)\n",
    "    data = lines.map(lambda l: l.split(\"|\"))\n",
    "    data = data.map(lambda p: tuple(p))\n",
    "    \n",
    "    df = sql.createDataFrame(data, schema)\n",
    "    \n",
    "    return df.cache()"
   ]
  },
  {
   "cell_type": "markdown",
   "metadata": {},
   "source": [
    "### End Student Code Here"
   ]
  },
  {
   "cell_type": "markdown",
   "metadata": {},
   "source": [
    "We'll load these files into Spark now, and register them as temporary SQL tables."
   ]
  },
  {
   "cell_type": "code",
   "execution_count": 4,
   "metadata": {},
   "outputs": [],
   "source": [
    "com = load_dataframe(com_file)\n",
    "can = load_dataframe(can_file)\n",
    "links = load_dataframe(com_can_link_file)\n",
    "indv = load_dataframe(indv_file)\n",
    "pas = load_dataframe(pas_file)\n",
    "com_links = load_dataframe(com_links_file)"
   ]
  },
  {
   "cell_type": "code",
   "execution_count": 5,
   "metadata": {},
   "outputs": [],
   "source": [
    "com.registerTempTable(\"com\")\n",
    "can.registerTempTable(\"can\")\n",
    "links.registerTempTable(\"links\")\n",
    "indv.registerTempTable(\"indv\")\n",
    "pas.registerTempTable(\"pas\")\n",
    "com_links.registerTempTable(\"com_links\")"
   ]
  },
  {
   "cell_type": "markdown",
   "metadata": {},
   "source": [
    "## 1b. Basic Analytics Queries"
   ]
  },
  {
   "cell_type": "markdown",
   "metadata": {},
   "source": [
    "As a demonstration, let's query for information corresponding to the strings \"Clinton\", \"Sanders\", \"Trump\", and \"Cruz\". Try these queries. How does this output look?"
   ]
  },
  {
   "cell_type": "code",
   "execution_count": 6,
   "metadata": {},
   "outputs": [
    {
     "name": "stdout",
     "output_type": "stream",
     "text": [
      "+---------+-----------------------------------+-----------+-----------+\n",
      "|CAND_ID  |CAND_NAME                          |CAND_STATUS|CAND_OFFICE|\n",
      "+---------+-----------------------------------+-----------+-----------+\n",
      "|H2CA24153|THAYNE, DAVID CRUZ                 |P          |H          |\n",
      "|H2MI08105|HETRICK, BRIAN CLINTON             |N          |H          |\n",
      "|H2TX33123|SANDERS, KENNETH                   |P          |H          |\n",
      "|H6NY05051|SANDERS, JAMES JR                  |C          |H          |\n",
      "|H6NY09137|SANDERS, JAIME                     |N          |H          |\n",
      "|H8OH02041|SANDERS, CHARLES W                 |P          |H          |\n",
      "|P00003392|CLINTON, HILLARY RODHAM            |C          |P          |\n",
      "|P60006111|CRUZ, RAFAEL EDWARD \"TED\"          |C          |P          |\n",
      "|P60007168|SANDERS, BERNARD                   |C          |P          |\n",
      "|P60012184|BALLSACK, DONALD TRUMP'S HAIRY KING|N          |P          |\n",
      "|P60012333|CLINTON, BILL                      |N          |P          |\n",
      "|P60013265|TRUMP, SELAM MRS.                  |N          |P          |\n",
      "|P60018835|TRUMP, THE MUSLIM DICTATOR         |N          |P          |\n",
      "|P60018991|TRUMP, DON'T VOTE FOR              |N          |P          |\n",
      "|P80001571|TRUMP, DONALD J                    |C          |P          |\n",
      "|P80004310|SANDERS, COLONEL LAUNEIL           |N          |P          |\n",
      "|S0AZ00236|CRUZADO, LOUIS MICHAEL             |N          |S          |\n",
      "|S0NY00188|CLINTON, HILLARY RODHAM            |P          |S          |\n",
      "|S2TX00312|CRUZ, RAFAEL EDWARD TED            |F          |S          |\n",
      "|S4VT00033|SANDERS, BERNARD                   |F          |S          |\n",
      "+---------+-----------------------------------+-----------+-----------+\n",
      "\n"
     ]
    }
   ],
   "source": [
    "front_runners = can.where(can.CAND_NAME.like(\"%CLINTON%\") | can.CAND_NAME.like(\"%SANDERS%\") \n",
    "          | can.CAND_NAME.like(\"%TRUMP%\") | can.CAND_NAME.like(\"%CRUZ%\") )\\\n",
    "    .select(\"CAND_ID\", \"CAND_NAME\", \"CAND_STATUS\", \"CAND_OFFICE\")\n",
    "front_runners.show(truncate=False)"
   ]
  },
  {
   "cell_type": "code",
   "execution_count": 7,
   "metadata": {
    "scrolled": true
   },
   "outputs": [
    {
     "name": "stdout",
     "output_type": "stream",
     "text": [
      "+---------+-----------------------------------+-----------+-----------+\n",
      "|CAND_ID  |CAND_NAME                          |CAND_STATUS|CAND_OFFICE|\n",
      "+---------+-----------------------------------+-----------+-----------+\n",
      "|H2CA24153|THAYNE, DAVID CRUZ                 |P          |H          |\n",
      "|H2MI08105|HETRICK, BRIAN CLINTON             |N          |H          |\n",
      "|H2TX33123|SANDERS, KENNETH                   |P          |H          |\n",
      "|H6NY05051|SANDERS, JAMES JR                  |C          |H          |\n",
      "|H6NY09137|SANDERS, JAIME                     |N          |H          |\n",
      "|H8OH02041|SANDERS, CHARLES W                 |P          |H          |\n",
      "|P00003392|CLINTON, HILLARY RODHAM            |C          |P          |\n",
      "|P60006111|CRUZ, RAFAEL EDWARD \"TED\"          |C          |P          |\n",
      "|P60007168|SANDERS, BERNARD                   |C          |P          |\n",
      "|P60012184|BALLSACK, DONALD TRUMP'S HAIRY KING|N          |P          |\n",
      "|P60012333|CLINTON, BILL                      |N          |P          |\n",
      "|P60013265|TRUMP, SELAM MRS.                  |N          |P          |\n",
      "|P60018835|TRUMP, THE MUSLIM DICTATOR         |N          |P          |\n",
      "|P60018991|TRUMP, DON'T VOTE FOR              |N          |P          |\n",
      "|P80001571|TRUMP, DONALD J                    |C          |P          |\n",
      "|P80004310|SANDERS, COLONEL LAUNEIL           |N          |P          |\n",
      "|S0AZ00236|CRUZADO, LOUIS MICHAEL             |N          |S          |\n",
      "|S0NY00188|CLINTON, HILLARY RODHAM            |P          |S          |\n",
      "|S2TX00312|CRUZ, RAFAEL EDWARD TED            |F          |S          |\n",
      "|S4VT00033|SANDERS, BERNARD                   |F          |S          |\n",
      "+---------+-----------------------------------+-----------+-----------+\n",
      "\n"
     ]
    }
   ],
   "source": [
    "front_runners = sql.sql(\"\"\"\n",
    "SELECT CAND_ID, CAND_NAME, CAND_STATUS, CAND_OFFICE\n",
    "FROM can\n",
    "WHERE CAND_NAME LIKE \"%CLINTON%\"\n",
    "OR CAND_NAME LIKE \"%SANDERS%\"\n",
    "OR CAND_NAME LIKE \"%TRUMP%\"\n",
    "OR CAND_NAME LIKE \"%CRUZ%\"\n",
    "\"\"\")\n",
    "front_runners.registerTempTable(\"fr\")\n",
    "front_runners.show(truncate=False)"
   ]
  },
  {
   "cell_type": "markdown",
   "metadata": {},
   "source": [
    "That didn't work out so well. But notice how both queries got the same results! For the rest of the questions, you are allowed to write the queries in either form. Use the DataFrames that you created in part 1a. They are listed again here for reference:\n",
    "\n",
    "* **com** contains committee information [Details](http://www.fec.gov/finance/disclosure/metadata/DataDictionaryCommitteeMaster.shtml)\n",
    "* **can** contains candidate information [Details](http://www.fec.gov/finance/disclosure/metadata/DataDictionaryCandidateMaster.shtml)\n",
    "* **links** contains linkage between committees and candidates [Details](http://www.fec.gov/finance/disclosure/metadata/DataDictionaryCandCmteLinkage.shtml)\n",
    "* **indv** contains individual contributions to committees [Details](http://www.fec.gov/finance/disclosure/metadata/DataDictionaryContributionsbyIndividuals.shtml)\n",
    "* **pas** contains contributions between committees [Details](http://www.fec.gov/finance/disclosure/metadata/DataDictionaryContributionstoCandidates.shtml)\n",
    "* **com_links** links between committees [Details](http://www.fec.gov/finance/disclosure/metadata/DataDictionaryCommitteetoCommittee.shtml)"
   ]
  },
  {
   "cell_type": "markdown",
   "metadata": {},
   "source": [
    "### Begin Student Code Here"
   ]
  },
  {
   "cell_type": "markdown",
   "metadata": {},
   "source": [
    "Q1."
   ]
  },
  {
   "cell_type": "code",
   "execution_count": 8,
   "metadata": {
    "scrolled": true
   },
   "outputs": [
    {
     "name": "stdout",
     "output_type": "stream",
     "text": [
      "+---------+-------------------------+---------+\n",
      "|CAND_ID  |CAND_NAME                |CAND_PCC |\n",
      "+---------+-------------------------+---------+\n",
      "|P00003392|CLINTON, HILLARY RODHAM  |C00575795|\n",
      "|P60006111|CRUZ, RAFAEL EDWARD \"TED\"|C00574624|\n",
      "|P60007168|SANDERS, BERNARD         |C00577130|\n",
      "|P80001571|TRUMP, DONALD J          |C00580100|\n",
      "+---------+-------------------------+---------+\n",
      "\n"
     ]
    }
   ],
   "source": [
    "front_runners = can.where(can.CAND_NAME.like(\"%CLINTON, HILLARY%\") | can.CAND_NAME.like(\"%SANDERS, BERNARD%\") \n",
    "          | can.CAND_NAME.like(\"%TRUMP, DONALD%\") | can.CAND_NAME.like(\"%CRUZ, RAFAEL%\") )\\\n",
    "    .where(can.CAND_ID.like(\"P%\")) \\\n",
    "    .select(\"CAND_ID\", \"CAND_NAME\", \"CAND_PCC\")\n",
    "# TODO\n",
    "\n",
    "q1 = front_runners.select(\"CAND_ID\", \"CAND_NAME\", \"CAND_PCC\")\n",
    "q1.show(truncate=False)"
   ]
  },
  {
   "cell_type": "markdown",
   "metadata": {},
   "source": [
    "**Q1 Expected Output:**\n",
    "```\n",
    "+---------+-------------------------+---------+\n",
    "|CAND_ID  |CAND_NAME                |CAND_PCC |\n",
    "+---------+-------------------------+---------+\n",
    "|P00003392|CLINTON, HILLARY RODHAM  |C00575795|\n",
    "|P60006111|CRUZ, RAFAEL EDWARD \"TED\"|C00574624|\n",
    "|P60007168|SANDERS, BERNARD         |C00577130|\n",
    "|P80001571|TRUMP, DONALD J          |C00580100|\n",
    "+---------+-------------------------+---------+\n",
    "```"
   ]
  },
  {
   "cell_type": "markdown",
   "metadata": {},
   "source": [
    "Q2."
   ]
  },
  {
   "cell_type": "code",
   "execution_count": 9,
   "metadata": {
    "scrolled": false
   },
   "outputs": [
    {
     "name": "stdout",
     "output_type": "stream",
     "text": [
      "+---------+-------------------------+-----+\n",
      "|CAND_ID  |CAND_NAME                |count|\n",
      "+---------+-------------------------+-----+\n",
      "|P60007168|SANDERS, BERNARD         |34524|\n",
      "|P60006111|CRUZ, RAFAEL EDWARD \"TED\"|34699|\n",
      "|P00003392|CLINTON, HILLARY RODHAM  |71249|\n",
      "|P80001571|TRUMP, DONALD J          |3006 |\n",
      "+---------+-------------------------+-----+\n",
      "\n"
     ]
    }
   ],
   "source": [
    "num_indv_contributions = None\n",
    "# TODO\n",
    "num_indv_contributions = sql.sql('''\n",
    "SELECT CAND_ID, CAND_NAME, COUNT(can.CAND_ID) AS count\n",
    "FROM indv, can\n",
    "WHERE can.CAND_PCC = indv.CMTE_ID AND\n",
    "    can.CAND_ID LIKE \"P%\" AND\n",
    "    (can.CAND_NAME LIKE \"%CLINTON, HILLARY%\" \n",
    "    OR can.CAND_NAME LIKE \"%SANDERS, BERNARD%\" \n",
    "    OR can.CAND_NAME LIKE \"%TRUMP, DONALD%\" \n",
    "    OR can.CAND_NAME LIKE \"%CRUZ, RAFAEL%\")\n",
    "GROUP BY can.CAND_ID, can.CAND_NAME\n",
    "''')\n",
    "\n",
    "q2 = num_indv_contributions.select(\"CAND_ID\", \"CAND_NAME\", \"count\")\n",
    "q2.show(truncate=False)\n"
   ]
  },
  {
   "cell_type": "markdown",
   "metadata": {},
   "source": [
    "**Q2 Expected Output:**\n",
    "```\n",
    "+---------+-------------------------+-----+\n",
    "|CAND_ID  |CAND_NAME                |count|\n",
    "+---------+-------------------------+-----+\n",
    "|P80001571|TRUMP, DONALD J          |3006 |\n",
    "|P60006111|CRUZ, RAFAEL EDWARD \"TED\"|34699|\n",
    "|P60007168|SANDERS, BERNARD         |34524|\n",
    "|P00003392|CLINTON, HILLARY RODHAM  |71249|\n",
    "+---------+-------------------------+-----+\n",
    "```"
   ]
  },
  {
   "cell_type": "markdown",
   "metadata": {},
   "source": [
    "Q3."
   ]
  },
  {
   "cell_type": "code",
   "execution_count": 10,
   "metadata": {},
   "outputs": [
    {
     "name": "stdout",
     "output_type": "stream",
     "text": [
      "+---------+-------------------------+-----------+\n",
      "|CAND_ID  |CAND_NAME                |SUM        |\n",
      "+---------+-------------------------+-----------+\n",
      "|P60007168|SANDERS, BERNARD         |4.9001141E7|\n",
      "|P60006111|CRUZ, RAFAEL EDWARD \"TED\"|2.4785175E7|\n",
      "|P00003392|CLINTON, HILLARY RODHAM  |9.5996062E7|\n",
      "|P80001571|TRUMP, DONALD J          |1994976.0  |\n",
      "+---------+-------------------------+-----------+\n",
      "\n"
     ]
    }
   ],
   "source": [
    "indv_contributions_amt = None\n",
    "# TODO\n",
    "indv_contributions_amt = sql.sql(\"\"\"\n",
    "SELECT CAND_ID, CAND_NAME, SUM(indv.TRANSACTION_AMT) AS SUM\n",
    "FROM indv, can\n",
    "WHERE can.CAND_PCC = indv.CMTE_ID AND\n",
    "    can.CAND_ID LIKE \"P%\" AND\n",
    "    (can.CAND_NAME LIKE \"%CLINTON, HILLARY%\" \n",
    "    OR can.CAND_NAME LIKE \"%SANDERS, BERNARD%\" \n",
    "    OR can.CAND_NAME LIKE \"%TRUMP, DONALD%\" \n",
    "    OR can.CAND_NAME LIKE \"%CRUZ, RAFAEL%\")\n",
    "GROUP BY can.CAND_ID, can.CAND_NAME\n",
    "\"\"\")\n",
    "\n",
    "# We will also accept a solution in either format.\n",
    "# Be sure to comment out the one you don't use: \n",
    "q3 = indv_contributions_amt.select(\"CAND_ID\", \"CAND_NAME\", \"SUM\")\n",
    "# q3 = indv_contributions_amt.select(\"CAND_ID\", \"CAND_NAME\", \"sum(TRANSACTION_AMT)\")\n",
    "q3.show(truncate=False)"
   ]
  },
  {
   "cell_type": "markdown",
   "metadata": {},
   "source": [
    "**Q3 Expected Output:**\n",
    "```\n",
    "+---------+-------------------------+--------------------+\n",
    "|CAND_ID  |CAND_NAME                |sum(TRANSACTION_AMT)|\n",
    "+---------+-------------------------+--------------------+\n",
    "|P80001571|TRUMP, DONALD J          |1994976.0           |\n",
    "|P60006111|CRUZ, RAFAEL EDWARD \"TED\"|2.4785175E7         |\n",
    "|P60007168|SANDERS, BERNARD         |4.9001141E7         |\n",
    "|P00003392|CLINTON, HILLARY RODHAM  |9.5996062E7         |\n",
    "+---------+-------------------------+--------------------+\n",
    "```"
   ]
  },
  {
   "cell_type": "markdown",
   "metadata": {},
   "source": [
    "Q4."
   ]
  },
  {
   "cell_type": "code",
   "execution_count": 11,
   "metadata": {
    "scrolled": false
   },
   "outputs": [
    {
     "name": "stdout",
     "output_type": "stream",
     "text": [
      "+-------------------------+---------+---------+-------------------------------------------------------------------------------+\n",
      "|CAND_NAME                |CAND_ID  |CMTE_ID  |CMTE_NM                                                                        |\n",
      "+-------------------------+---------+---------+-------------------------------------------------------------------------------+\n",
      "|SANDERS, BERNARD         |P60007168|C00583708|PROGRESS WV                                                                    |\n",
      "|CLINTON, HILLARY RODHAM  |P00003392|C00577395|PEOPLE IN COMMAND/PIC                                                          |\n",
      "|SANDERS, BERNARD         |P60007168|C00577130|BERNIE 2016                                                                    |\n",
      "|SANDERS, BERNARD         |P60007168|C00612549|LORAIN COUNTY FORWARD                                                          |\n",
      "|CRUZ, RAFAEL EDWARD \"TED\"|P60006111|C00612119|CRUZ INFO PRESIDENT                                                            |\n",
      "|CRUZ, RAFAEL EDWARD \"TED\"|P60006111|C00574624|CRUZ FOR PRESIDENT                                                             |\n",
      "|SANDERS, BERNARD         |P60007168|C00589937|PROGRESSGJ                                                                     |\n",
      "|SANDERS, BERNARD         |P60007168|C00590646|NEW YORK CAPITAL REGION FOR BRINGING ECONOMIC REVOLUTION NOW INSPIRING EVERYONE|\n",
      "|CLINTON, HILLARY RODHAM  |P00003392|C00570978|FUTURE OF AMERICAN LIVES MATTER                                                |\n",
      "|SANDERS, BERNARD         |P60007168|C00587766|SILVER CITY NM FOR BERNIE SANDERS                                              |\n",
      "|SANDERS, BERNARD         |P60007168|C00588434|ROCHESTER FOR PROGRESS                                                         |\n",
      "|SANDERS, BERNARD         |P60007168|C00588707|ITHACA AND TOMPKINS COUNTY FOR BERNIE SANDERS                                  |\n",
      "|SANDERS, BERNARD         |P60007168|C00590240|NORTHEAST MUSICIANS FOR SOCIAL DEMOCRACY                                       |\n",
      "|SANDERS, BERNARD         |P60007168|C00590828|UPPER VALLEY FOR BERNIE SANDERS                                                |\n",
      "|SANDERS, BERNARD         |P60007168|C00590620|LAS CRUCES FOR BERNIE                                                          |\n",
      "|CLINTON, HILLARY RODHAM  |P00003392|C00575795|HILLARY FOR AMERICA                                                            |\n",
      "|SANDERS, BERNARD         |P60007168|C00582395|UPSTATE NEW YORK FOR BERNIE SANDERS                                            |\n",
      "|TRUMP, DONALD J          |P80001571|C00580100|DONALD J. TRUMP FOR PRESIDENT, INC.                                            |\n",
      "+-------------------------+---------+---------+-------------------------------------------------------------------------------+\n",
      "\n"
     ]
    }
   ],
   "source": [
    "linked_committees = None\n",
    "# TODO\n",
    "linked_committees = sql.sql(\"\"\"\n",
    "SELECT can.CAND_NAME as CAND_NAME, can.CAND_ID as CAND_ID, links.CMTE_ID as CMTE_ID, com.CMTE_NM as CMTE_NM\n",
    "FROM can, links, com\n",
    "WHERE can.CAND_ID = links.CAND_ID AND\n",
    "    links.CMTE_ID = com.CMTE_ID AND\n",
    "    can.CAND_ID LIKE \"P%\" AND\n",
    "    (can.CAND_NAME LIKE \"%CLINTON, HILLARY%\" \n",
    "    OR can.CAND_NAME LIKE \"%SANDERS, BERNARD%\" \n",
    "    OR can.CAND_NAME LIKE \"%TRUMP, DONALD%\" \n",
    "    OR can.CAND_NAME LIKE \"%CRUZ, RAFAEL%\")\n",
    "\"\"\")\n",
    "\n",
    "q4 = linked_committees.select(\"CAND_NAME\", \"CAND_ID\", \"CMTE_ID\", \"CMTE_NM\")\n",
    "q4.show(truncate=False)"
   ]
  },
  {
   "cell_type": "markdown",
   "metadata": {},
   "source": [
    "**Q4 Expected Output:**\n",
    "```\n",
    "+-------------------------+---------+---------+-------------------------------------------------------------------------------+\n",
    "|CAND_NAME                |CAND_ID  |CMTE_ID  |CMTE_NM                                                                        |\n",
    "+-------------------------+---------+---------+-------------------------------------------------------------------------------+\n",
    "|CLINTON, HILLARY RODHAM  |P00003392|C00577395|PEOPLE IN COMMAND/PIC                                                          |\n",
    "|SANDERS, BERNARD         |P60007168|C00590646|NEW YORK CAPITAL REGION FOR BRINGING ECONOMIC REVOLUTION NOW INSPIRING EVERYONE|\n",
    "|SANDERS, BERNARD         |P60007168|C00612549|LORAIN COUNTY FORWARD                                                          |\n",
    "|CLINTON, HILLARY RODHAM  |P00003392|C00575795|HILLARY FOR AMERICA                                                            |\n",
    "|SANDERS, BERNARD         |P60007168|C00587766|SILVER CITY NM FOR BERNIE SANDERS                                              |\n",
    "|SANDERS, BERNARD         |P60007168|C00588707|ITHACA AND TOMPKINS COUNTY FOR BERNIE SANDERS                                  |\n",
    "|SANDERS, BERNARD         |P60007168|C00589937|PROGRESSGJ                                                                     |\n",
    "|SANDERS, BERNARD         |P60007168|C00588434|ROCHESTER FOR PROGRESS                                                         |\n",
    "|SANDERS, BERNARD         |P60007168|C00577130|BERNIE 2016                                                                    |\n",
    "|CRUZ, RAFAEL EDWARD \"TED\"|P60006111|C00574624|CRUZ FOR PRESIDENT                                                             |\n",
    "|SANDERS, BERNARD         |P60007168|C00590828|UPPER VALLEY FOR BERNIE SANDERS                                                |\n",
    "|CRUZ, RAFAEL EDWARD \"TED\"|P60006111|C00612119|CRUZ INFO PRESIDENT                                                            |\n",
    "|SANDERS, BERNARD         |P60007168|C00583708|PROGRESS WV                                                                    |\n",
    "|SANDERS, BERNARD         |P60007168|C00582395|UPSTATE NEW YORK FOR BERNIE SANDERS                                            |\n",
    "|SANDERS, BERNARD         |P60007168|C00590620|LAS CRUCES FOR BERNIE                                                          |\n",
    "|CLINTON, HILLARY RODHAM  |P00003392|C00570978|FUTURE OF AMERICAN LIVES MATTER                                                |\n",
    "|TRUMP, DONALD J          |P80001571|C00580100|DONALD J. TRUMP FOR PRESIDENT, INC.                                            |\n",
    "|SANDERS, BERNARD         |P60007168|C00590240|NORTHEAST MUSICIANS FOR SOCIAL DEMOCRACY                                       |\n",
    "+-------------------------+---------+---------+-------------------------------------------------------------------------------+\n",
    "```"
   ]
  },
  {
   "cell_type": "markdown",
   "metadata": {},
   "source": [
    "Q5."
   ]
  },
  {
   "cell_type": "code",
   "execution_count": 12,
   "metadata": {},
   "outputs": [
    {
     "name": "stdout",
     "output_type": "stream",
     "text": [
      "+-------------------------+-----+\n",
      "|CAND_NAME                |count|\n",
      "+-------------------------+-----+\n",
      "|TRUMP, DONALD J          |333  |\n",
      "|CLINTON, HILLARY RODHAM  |2561 |\n",
      "|SANDERS, BERNARD         |1577 |\n",
      "|CRUZ, RAFAEL EDWARD \"TED\"|643  |\n",
      "+-------------------------+-----+\n",
      "\n"
     ]
    }
   ],
   "source": [
    "num_com_contributions = None\n",
    "# TODO\n",
    "num_com_contributions = sql.sql('''\n",
    "SELECT CAND_NAME, COUNT(can.CAND_ID) AS count\n",
    "FROM pas, can\n",
    "WHERE can.CAND_ID = pas.CAND_ID AND\n",
    "    can.CAND_ID LIKE \"P%\" AND\n",
    "    (can.CAND_NAME LIKE \"%CLINTON, HILLARY%\" \n",
    "    OR can.CAND_NAME LIKE \"%SANDERS, BERNARD%\" \n",
    "    OR can.CAND_NAME LIKE \"%TRUMP, DONALD%\" \n",
    "    OR can.CAND_NAME LIKE \"%CRUZ, RAFAEL%\")\n",
    "GROUP BY can.CAND_NAME\n",
    "''')\n",
    "\n",
    "q5 = num_com_contributions.select(\"CAND_NAME\", \"count\")\n",
    "q5.show(truncate=False)"
   ]
  },
  {
   "cell_type": "markdown",
   "metadata": {},
   "source": [
    "**Q5 Expected Output:**\n",
    "\n",
    "```\n",
    "+-------------------------+-----+\n",
    "|CAND_NAME                |count|\n",
    "+-------------------------+-----+\n",
    "|CLINTON, HILLARY RODHAM  |2561 |\n",
    "|SANDERS, BERNARD         |1577 |\n",
    "|TRUMP, DONALD J          |333  |\n",
    "|CRUZ, RAFAEL EDWARD \"TED\"|643  |\n",
    "+-------------------------+-----+\n",
    "```"
   ]
  },
  {
   "cell_type": "markdown",
   "metadata": {
    "collapsed": true
   },
   "source": [
    "Q6."
   ]
  },
  {
   "cell_type": "code",
   "execution_count": 64,
   "metadata": {},
   "outputs": [
    {
     "name": "stdout",
     "output_type": "stream",
     "text": [
      "+-------------------------+-----------+\n",
      "|CAND_NAME                |SUM        |\n",
      "+-------------------------+-----------+\n",
      "|TRUMP, DONALD J          |6099777.0  |\n",
      "|CLINTON, HILLARY RODHAM  |6064499.0  |\n",
      "|SANDERS, BERNARD         |1202034.0  |\n",
      "|CRUZ, RAFAEL EDWARD \"TED\"|1.2145601E7|\n",
      "+-------------------------+-----------+\n",
      "\n"
     ]
    }
   ],
   "source": [
    "com_contributions_amt = None\n",
    "# TODO\n",
    "com_contributions_amt = sql.sql('''\n",
    "SELECT CAND_NAME, SUM(TRANSACTION_AMT) AS SUM\n",
    "FROM pas, can\n",
    "WHERE can.CAND_ID = pas.CAND_ID AND\n",
    "    can.CAND_ID LIKE \"P%\" AND\n",
    "    (can.CAND_NAME LIKE \"%CLINTON, HILLARY%\" \n",
    "    OR can.CAND_NAME LIKE \"%SANDERS, BERNARD%\" \n",
    "    OR can.CAND_NAME LIKE \"%TRUMP, DONALD%\" \n",
    "    OR can.CAND_NAME LIKE \"%CRUZ, RAFAEL%\")\n",
    "GROUP BY can.CAND_NAME\n",
    "''')\n",
    "\n",
    "# We will also accept a solution in either format.\n",
    "# Be sure to comment out the one you don't use: \n",
    "q6 = com_contributions_amt.select(\"CAND_NAME\", \"SUM\")\n",
    "# q6 = com_contributions_amt.select(\"CAND_NAME\", \"sum(TRANSACTION_AMT)\")\n",
    "q6.show(truncate=False)"
   ]
  },
  {
   "cell_type": "markdown",
   "metadata": {},
   "source": [
    "**Q6 Expected Output:**\n",
    "\n",
    "```\n",
    "+-------------------------+--------------------+\n",
    "|CAND_NAME                |sum(TRANSACTION_AMT)|\n",
    "+-------------------------+--------------------+\n",
    "|CLINTON, HILLARY RODHAM  |6064499.0           |\n",
    "|SANDERS, BERNARD         |1202034.0           |\n",
    "|TRUMP, DONALD J          |6099777.0           |\n",
    "|CRUZ, RAFAEL EDWARD \"TED\"|1.2145601E7         |\n",
    "+-------------------------+--------------------+\n",
    "```"
   ]
  },
  {
   "cell_type": "markdown",
   "metadata": {},
   "source": [
    "### End Student Code Here"
   ]
  },
  {
   "cell_type": "markdown",
   "metadata": {},
   "source": [
    "# 2. K-means Clustering"
   ]
  },
  {
   "cell_type": "markdown",
   "metadata": {
    "collapsed": true
   },
   "source": [
    "## Use Dataframe API to load some Toy Data"
   ]
  },
  {
   "cell_type": "markdown",
   "metadata": {},
   "source": [
    "Load a parquet file as a DataFrame."
   ]
  },
  {
   "cell_type": "code",
   "execution_count": 14,
   "metadata": {},
   "outputs": [],
   "source": [
    "df = sql.read.parquet(\"toy_data\")"
   ]
  },
  {
   "cell_type": "markdown",
   "metadata": {},
   "source": [
    "Let's look at a few records:"
   ]
  },
  {
   "cell_type": "code",
   "execution_count": 15,
   "metadata": {},
   "outputs": [
    {
     "name": "stdout",
     "output_type": "stream",
     "text": [
      "+----------+----------+\n",
      "|         x|         y|\n",
      "+----------+----------+\n",
      "|-4.9907994|-4.2618637|\n",
      "| -7.432548| 3.3552022|\n",
      "| 5.0735617| -4.720278|\n",
      "| 7.2906733|  2.841892|\n",
      "|  4.074311| -5.957786|\n",
      "| -8.458117|-5.1797223|\n",
      "| -4.112099| 5.3096504|\n",
      "|-3.9263382| 6.6511106|\n",
      "|-3.3189628| 3.3933427|\n",
      "| 0.2932425| -3.826736|\n",
      "| 5.2747483|  6.326796|\n",
      "|-5.6456027| -4.825616|\n",
      "|-3.9581819|-0.5465015|\n",
      "| -8.848497|   4.49587|\n",
      "| 1.2092631|    -7.104|\n",
      "| 7.3794646|-7.3115807|\n",
      "|-3.3198044|-4.6826067|\n",
      "| -6.402542| -5.761201|\n",
      "|-5.3838096| -7.851962|\n",
      "|  5.543933|  6.706873|\n",
      "+----------+----------+\n",
      "only showing top 20 rows\n",
      "\n"
     ]
    }
   ],
   "source": [
    "df.show()"
   ]
  },
  {
   "cell_type": "markdown",
   "metadata": {},
   "source": [
    "## Plotting the Toy Data"
   ]
  },
  {
   "cell_type": "markdown",
   "metadata": {},
   "source": [
    "We'll first plot a sample of some toy data. Let's collect a sample of records,"
   ]
  },
  {
   "cell_type": "code",
   "execution_count": 16,
   "metadata": {},
   "outputs": [],
   "source": [
    "sample = df.sample(False, 0.2)"
   ]
  },
  {
   "cell_type": "markdown",
   "metadata": {},
   "source": [
    "project out the `x` and the `y` columns,"
   ]
  },
  {
   "cell_type": "code",
   "execution_count": 17,
   "metadata": {},
   "outputs": [
    {
     "name": "stdout",
     "output_type": "stream",
     "text": [
      "[Row(x=5.2747483253479), Row(x=-3.958181858062744), Row(x=-8.84849739074707), Row(x=-6.4025421142578125), Row(x=-2.5231127738952637), Row(x=7.782165050506592), Row(x=3.6885223388671875), Row(x=4.63060998916626), Row(x=-1.7006257772445679), Row(x=-5.877731800079346), Row(x=-5.031441688537598), Row(x=-3.527243137359619), Row(x=3.410719633102417), Row(x=4.924119472503662), Row(x=5.705167770385742), Row(x=-5.279540061950684), Row(x=-2.0749826431274414), Row(x=4.578635215759277), Row(x=8.767208099365234), Row(x=-7.635761737823486), Row(x=6.7718377113342285), Row(x=-5.541695594787598), Row(x=9.02724552154541), Row(x=4.9231276512146), Row(x=-1.5502244234085083), Row(x=3.711305618286133), Row(x=4.657652378082275), Row(x=4.015305995941162), Row(x=7.503213405609131), Row(x=5.841335773468018), Row(x=4.178187370300293), Row(x=4.060188293457031), Row(x=-6.029005527496338), Row(x=-5.21302604675293), Row(x=-4.2595014572143555), Row(x=-1.0644588470458984), Row(x=4.803116321563721), Row(x=4.9765801429748535), Row(x=4.998292922973633), Row(x=2.9694857597351074), Row(x=-7.252044677734375), Row(x=-3.1418206691741943), Row(x=-1.1405683755874634), Row(x=4.199955940246582), Row(x=-6.091281414031982), Row(x=-6.867959976196289), Row(x=-1.9486210346221924), Row(x=8.005056381225586), Row(x=-3.87137770652771), Row(x=-7.738833904266357), Row(x=7.134167194366455), Row(x=3.293095111846924), Row(x=-5.8674235343933105), Row(x=-6.406148910522461), Row(x=-7.083456993103027), Row(x=-2.0063815116882324), Row(x=7.753224849700928), Row(x=6.315325736999512), Row(x=3.294192314147949), Row(x=-4.628826141357422), Row(x=3.0700902938842773), Row(x=8.65407943725586), Row(x=1.640343427658081), Row(x=10.624361038208008), Row(x=5.830071449279785), Row(x=6.295032501220703), Row(x=-3.2599570751190186), Row(x=3.5687127113342285), Row(x=-2.903449296951294), Row(x=4.3419013023376465), Row(x=-6.100229263305664), Row(x=2.5730772018432617), Row(x=-6.9451751708984375), Row(x=4.782377243041992), Row(x=6.296961784362793), Row(x=-1.6408380270004272), Row(x=9.008994102478027), Row(x=-5.970843315124512), Row(x=-4.349180221557617), Row(x=-5.996371269226074), Row(x=3.8923518657684326), Row(x=-7.561701774597168), Row(x=5.328854560852051), Row(x=-6.561538219451904), Row(x=-4.5707926750183105), Row(x=3.17942214012146), Row(x=-3.3198490142822266), Row(x=6.376856327056885), Row(x=-5.21887731552124), Row(x=-4.387356758117676), Row(x=3.2458109855651855), Row(x=4.033928871154785), Row(x=7.264914035797119), Row(x=6.657176494598389), Row(x=-4.539790153503418), Row(x=-5.015955924987793), Row(x=4.231747627258301), Row(x=-3.4329769611358643), Row(x=4.174582004547119), Row(x=-3.5672693252563477), Row(x=5.9326372146606445), Row(x=-4.089776039123535), Row(x=6.290477752685547), Row(x=4.6067681312561035), Row(x=1.0441384315490723), Row(x=8.2833890914917), Row(x=-4.538300037384033), Row(x=5.303572654724121), Row(x=3.9980902671813965), Row(x=3.2039268016815186), Row(x=7.157779216766357), Row(x=-0.05065150558948517), Row(x=3.761302947998047), Row(x=-2.5442185401916504), Row(x=-2.3077919483184814), Row(x=5.35056734085083), Row(x=-6.823644638061523), Row(x=-2.154797315597534), Row(x=-8.695418357849121), Row(x=1.745232105255127), Row(x=6.273313522338867), Row(x=3.087847948074341), Row(x=5.393342971801758), Row(x=-6.821910381317139), Row(x=-4.489382743835449), Row(x=-4.26115608215332), Row(x=-8.474529266357422), Row(x=8.332023620605469), Row(x=5.443668842315674), Row(x=-4.405084133148193), Row(x=0.8140715956687927), Row(x=3.6099159717559814), Row(x=-4.1345624923706055), Row(x=4.979786396026611), Row(x=8.757013320922852), Row(x=-5.109928131103516), Row(x=-5.967541217803955), Row(x=-4.9528679847717285), Row(x=-3.0207881927490234), Row(x=-2.075751304626465), Row(x=7.337007522583008), Row(x=-3.5913069248199463), Row(x=4.44377326965332), Row(x=-2.7522945404052734), Row(x=-3.573399543762207), Row(x=-3.170827627182007), Row(x=-5.086491584777832), Row(x=-2.807056188583374), Row(x=-2.9220104217529297), Row(x=-2.6078360080718994), Row(x=-5.27728796005249), Row(x=6.175137996673584), Row(x=-4.2381978034973145), Row(x=5.58781099319458), Row(x=5.288651466369629), Row(x=2.276240825653076), Row(x=6.693004608154297), Row(x=-4.590178489685059), Row(x=-5.079376697540283), Row(x=2.245337724685669), Row(x=-4.930514335632324), Row(x=5.650728702545166), Row(x=4.111987590789795), Row(x=-3.729203939437866), Row(x=9.532864570617676)]\n"
     ]
    }
   ],
   "source": [
    "x_sample = sample.select('x').collect()\n",
    "print(x_sample)\n",
    "y_sample = sample.select('y').collect()"
   ]
  },
  {
   "cell_type": "markdown",
   "metadata": {},
   "source": [
    "and plot the data."
   ]
  },
  {
   "cell_type": "code",
   "execution_count": 18,
   "metadata": {
    "scrolled": true
   },
   "outputs": [
    {
     "data": {
      "text/plain": [
       "[<matplotlib.lines.Line2D at 0x23127d4bf60>]"
      ]
     },
     "execution_count": 18,
     "metadata": {},
     "output_type": "execute_result"
    },
    {
     "data": {
      "image/png": "[encoded data removed]",
      "text/plain": [
       "<Figure size 432x288 with 1 Axes>"
      ]
     },
     "metadata": {
      "needs_background": "light"
     },
     "output_type": "display_data"
    }
   ],
   "source": [
    "plt.figure()\n",
    "plt.axis([-10, 10, -10, 10])\n",
    "plot(x_sample, y_sample, 'bo')"
   ]
  },
  {
   "cell_type": "markdown",
   "metadata": {},
   "source": [
    "## Implementation"
   ]
  },
  {
   "cell_type": "markdown",
   "metadata": {},
   "source": [
    "Implement a distributed version of K-Means clustering using PySpark."
   ]
  },
  {
   "cell_type": "markdown",
   "metadata": {},
   "source": [
    "## 2a. K-Means++ Initialization"
   ]
  },
  {
   "cell_type": "markdown",
   "metadata": {},
   "source": [
    "Initialize the centers using the K-Means++ Algorithm, using Distributed Reservoir Sampling. We've provided you the signatures of a few functions which may be helpful."
   ]
  },
  {
   "cell_type": "markdown",
   "metadata": {},
   "source": [
    "### Begin Student Code Here"
   ]
  },
  {
   "cell_type": "code",
   "execution_count": 53,
   "metadata": {},
   "outputs": [],
   "source": [
    "def initialize_centers_plus(points, k):\n",
    "    \"\"\"\n",
    "    Find k initial cluster centers using distributed weighted reservoir sampling.\n",
    "    \n",
    "    Inputs:\n",
    "    points: a collection of d-dimensional points (x_1, x_2, ..., x_d).\n",
    "    k: the number of cluster centers wanted\n",
    "    \n",
    "    Output:\n",
    "    A list of k points which become the initial centers in K-means clustering\n",
    "    \"\"\"\n",
    "    centers = []\n",
    "    \n",
    "    # Choose first center uniformly at random\n",
    "    # TODO\n",
    "    try:\n",
    "        points = points.rdd\n",
    "    except:\n",
    "        pass\n",
    "    initial_center = points.takeSample(False,1)[0]\n",
    "    centers.append(initial_center)\n",
    "\n",
    "    for _ in range(1, k):\n",
    "        # Compute distances of each point to its nearest center, and\n",
    "        # TODO\n",
    "        distances = points.map(lambda x: (x,nearest_center(centers,x)[1]**2))\n",
    "        \n",
    "        # given distances, choose a new center\n",
    "        # TODO\n",
    "        judge = distances.mapPartitions(lambda iterator : choose_partition_center(iterator))\n",
    "       \n",
    "        center = judge.reduce(lambda p1, p2: pick_between_centers(p1, p2))\n",
    "        \n",
    "        \n",
    "        centers.append(center[0]) \n",
    "    \n",
    "    \n",
    "    return centers"
   ]
  },
  {
   "cell_type": "code",
   "execution_count": 65,
   "metadata": {},
   "outputs": [],
   "source": [
    "def choose_partition_center(points_partition_iterator):\n",
    "    \"\"\"\n",
    "    Choose a single center from a SINGLE PARTITION, using weighted random sampling.\n",
    "    \n",
    "    Inputs:\n",
    "    points_partition_iterator: an iterator through a partition of D-dimensional points\n",
    "    \n",
    "    Output:\n",
    "    (As an iterator) A 2-tuple, containing the randomly-chosen center and its weighted random-sampling key\n",
    "    \"\"\"\n",
    "    center = None\n",
    "    key = None\n",
    "    # TODO\n",
    "    for point in points_partition_iterator:\n",
    "        rand = np.random.random()\n",
    "        key = rand**(1.0/point[1])\n",
    "        yield (point[0], key)"
   ]
  },
  {
   "cell_type": "code",
   "execution_count": 1,
   "metadata": {},
   "outputs": [],
   "source": [
    "def pick_between_centers(candidate_center_1, candidate_center_2):\n",
    "    \"\"\"\n",
    "    Between two centers from different partitions, pick the one with a larger key.\n",
    "    \n",
    "    Inputs:\n",
    "    candidate_center_1: a 2-tuple, containing the randomly-chosen center and its weighted random sampling key \n",
    "                        from the first partition\n",
    "    candidate_center_2: a 2-tuple, containing the randomly-chosen center and its weighted random sampling key \n",
    "                        from the first partition\n",
    "    \n",
    "    Output:\n",
    "    A 2-tuple, containing the \"better\" center and its weighted random-sampling key\n",
    "    \"\"\"\n",
    "    better_center = None\n",
    "    # TODO\n",
    "    key1 = candidate_center_1[1]\n",
    "    key2 = candidate_center_2[1]\n",
    "    if key1 >= key2:\n",
    "        better_center = candidate_center_1\n",
    "    else:\n",
    "        better_center = candidate_center_2\n",
    "    return better_center"
   ]
  },
  {
   "cell_type": "code",
   "execution_count": 67,
   "metadata": {},
   "outputs": [],
   "source": [
    "def nearest_center(centers, point):\n",
    "    \"\"\"\n",
    "    Given a point and a list of centers (also points), determine the center closest to that point,\n",
    "    and compute the distance to that point.\n",
    "    \n",
    "    Inputs:\n",
    "    centers: a list of points which represent the current centers\n",
    "    point: the point to examine\n",
    "    \n",
    "    Outputs:\n",
    "    A 2-tuple, containing the index of the closest center (point) and its distance from point\n",
    "    \"\"\"\n",
    "    (index, shortest_distance) = (None, None)\n",
    "    # TODO\n",
    "    # Using README\n",
    "    cen_arr = np.asarray(centers)\n",
    "    distance = np.linalg.norm(cen_arr - point, axis = 1) \n",
    "    index = np.argmin(distance)\n",
    "    shortest_distance = distance[index]\n",
    "    \n",
    "    return (index, shortest_distance)"
   ]
  },
  {
   "cell_type": "markdown",
   "metadata": {},
   "source": [
    "### End Student Code Here"
   ]
  },
  {
   "cell_type": "markdown",
   "metadata": {},
   "source": [
    "## Plotting the centers"
   ]
  },
  {
   "cell_type": "markdown",
   "metadata": {},
   "source": [
    "Let's see how our initialization algorithm performs. How do your centers look? Are they too close to each other?"
   ]
  },
  {
   "cell_type": "code",
   "execution_count": 68,
   "metadata": {
    "scrolled": false
   },
   "outputs": [
    {
     "name": "stdout",
     "output_type": "stream",
     "text": [
      "[Row(x=4.149655818939209, y=1.8736847639083862), Row(x=-5.228621482849121, y=-7.019656181335449), Row(x=-2.9220104217529297, y=-1.1477954387664795), Row(x=8.332023620605469, y=-7.282932281494141)]\n"
     ]
    },
    {
     "data": {
      "text/plain": [
       "[<matplotlib.lines.Line2D at 0x23129974cf8>]"
      ]
     },
     "execution_count": 68,
     "metadata": {},
     "output_type": "execute_result"
    },
    {
     "data": {
      "image/png": "[encoded data removed]",
      "text/plain": [
       "<Figure size 432x288 with 1 Axes>"
      ]
     },
     "metadata": {
      "needs_background": "light"
     },
     "output_type": "display_data"
    }
   ],
   "source": [
    "num_centers = 4\n",
    "centers = initialize_centers_plus(df, num_centers)\n",
    "print(centers) \n",
    "\n",
    "plt.figure()\n",
    "plt.axis([-10, 10, -10, 10])\n",
    "plot(x_sample, y_sample, 'bo')\n",
    "centers = np.asarray(centers)\n",
    "plt.plot(centers[:,0], centers[:,1], 'mo', markersize = 10)"
   ]
  },
  {
   "cell_type": "markdown",
   "metadata": {},
   "source": [
    "## 2b. Main Loop"
   ]
  },
  {
   "cell_type": "markdown",
   "metadata": {},
   "source": [
    "Now, implement the main loop in K-means clustering. Again, we've provided you the signatures of some functions which may be useful."
   ]
  },
  {
   "cell_type": "markdown",
   "metadata": {},
   "source": [
    "Note: The statistics of a new center \"mean\" is given by:\n",
    "$$\n",
    "\\bar{x}_k = \\frac{1}{n_k} \\sum_{x \\in \\text{Cluster}[k]}^{n_i} x\n",
    "$$\n",
    "So the only statistics we require are $n_k$ the number of elements in cluster $k$ and $\\sum_{x \\in \\text{Cluster}[k]}^{n_i} x$ the sum of the elements in cluster $k$."
   ]
  },
  {
   "cell_type": "markdown",
   "metadata": {},
   "source": [
    "### Begin Student Code Here"
   ]
  },
  {
   "cell_type": "code",
   "execution_count": 54,
   "metadata": {},
   "outputs": [],
   "source": [
    "def k_means(points,\n",
    "            k = num_centers,\n",
    "            initial_centers = None,\n",
    "            max_iterations = 100,\n",
    "            initializer = initialize_centers_plus,\n",
    "            epsilon = 0.001):\n",
    "    \"\"\"\n",
    "    Executes the K-means algorithm on a collection of points.\n",
    "    \n",
    "    Inputs:\n",
    "    points: a collection of d-dimensional points (x_1, x_2, ..., x_d).\n",
    "    k: the number of cluster centers wanted\n",
    "    initial_centers: if supplied, skips the initialization phase and uses points from this value\n",
    "    max_iterations: the maximum number of main-loop iterations to run\n",
    "    initializer: a function which selects initial centers (if none supplied)\n",
    "    epsilon: the threshhold at which convergence is reached and the algorithm halted\n",
    "    \n",
    "    Output:\n",
    "    A list of k candidate cluster centers\n",
    "    \"\"\"\n",
    "    \n",
    "    # speeds up rerunning\n",
    "    points.cache()\n",
    "    \n",
    "    old_centers = None\n",
    "    new_centers = None\n",
    "    if initial_centers: # we were provided initial centers to use\n",
    "        new_centers = initial_centers\n",
    "    else: # we need to initialize the centers ourselves\n",
    "        # TODO\n",
    "        new_centers = initializer(points, k)\n",
    "        \n",
    "    try:\n",
    "        points = points.rdd\n",
    "    except:\n",
    "        pass\n",
    "    iteration = 0\n",
    "    while not has_converged(old_centers, new_centers, epsilon) and iteration < max_iterations:\n",
    "        # update centers\n",
    "        # TODO\n",
    "        \n",
    "        old_centers = new_centers\n",
    "        temp = points.mapPartitions(lambda x: compute_new_center_statistics(x, old_centers))\n",
    "        (counts,sums) = temp.reduce(lambda s1, s2: add_statistics(s1, s2))\n",
    "        new_centers = [sums[i]/counts[i] for i in range(k)]\n",
    "        \n",
    "        iteration += 1\n",
    "        \n",
    "    return new_centers"
   ]
  },
  {
   "cell_type": "code",
   "execution_count": 35,
   "metadata": {},
   "outputs": [],
   "source": [
    "def compute_new_center_statistics(iterator, old_centers):\n",
    "    \"\"\"\n",
    "    Given an iterator over points and a list of old centers, compute the statistics for the new center.\n",
    "    \n",
    "    Input:\n",
    "    iterator: an iterator over points\n",
    "    old_centers: a list of centers (points) from the previous iteration\n",
    "    \n",
    "    Output:\n",
    "    A 2-tuple (counts, sums) consisting of:\n",
    "     - counts: an array of length k containing the count of points in each new center\n",
    "     - sums: a k by d array consisting of sum of the points assigned to each center\n",
    "     \n",
    "    Note that from the tuple you could compute the ith new center:\n",
    "      sums[i] / counts[i]\n",
    "    \"\"\"\n",
    "    # Get the shape of the old centers\n",
    "    # TODO\n",
    "    para = np.array(old_centers).shape\n",
    "    k = para[0]\n",
    "    d = para[1]\n",
    "    \n",
    "    # Initialize the sums\n",
    "    # TODO\n",
    "    counts = None\n",
    "    sums = None\n",
    "    counts = np.zeros(k)\n",
    "    sums = np.zeros((k,d))\n",
    "    \n",
    "    # Loop over the data and compute the new assignments\n",
    "    # TODO\n",
    "    #for _ in []:\n",
    "    for point in iterator:\n",
    "        # Compute the nearest center (you just implemented this!)\n",
    "        # TODO\n",
    "        ind,distan = nearest_center(old_centers, point)\n",
    "        # Update the sums and counts\n",
    "        # TODO\n",
    "        counts[ind] += 1\n",
    "        sums[ind] += np.asarray(point)\n",
    "        \n",
    "        pass\n",
    "\n",
    "\n",
    "        \n",
    "    yield (counts, sums)"
   ]
  },
  {
   "cell_type": "code",
   "execution_count": 36,
   "metadata": {},
   "outputs": [],
   "source": [
    "def add_statistics(stats_1, stats_2):\n",
    "    \"\"\"\n",
    "    Given statistics from two partitions, add those statistics.\n",
    "    \"\"\"\n",
    "    stats = (None, None)\n",
    "    # Compute stats_1 + stats_2\n",
    "    # TODO\n",
    "    stats = (stats_1[0]+stats_2[0], stats_1[1]+stats_2[1])\n",
    "    \n",
    "    return stats"
   ]
  },
  {
   "cell_type": "markdown",
   "metadata": {},
   "source": [
    "### End Student Code Here"
   ]
  },
  {
   "cell_type": "code",
   "execution_count": 37,
   "metadata": {},
   "outputs": [],
   "source": [
    "def has_converged(old_centers, new_centers, epsilon):\n",
    "    \"\"\"\n",
    "    Test if the distance between the centers is less than epsilon.\n",
    "    \"\"\"\n",
    "    return (old_centers is not None) and (new_centers is not None) and \\\n",
    "        np.linalg.norm(np.asarray(old_centers) - np.asarray(new_centers), ord=2) < epsilon"
   ]
  },
  {
   "cell_type": "markdown",
   "metadata": {},
   "source": [
    "## Plotting Clusters"
   ]
  },
  {
   "cell_type": "markdown",
   "metadata": {},
   "source": [
    "How does your code perform? Are these good clusters?"
   ]
  },
  {
   "cell_type": "code",
   "execution_count": 38,
   "metadata": {},
   "outputs": [],
   "source": [
    "colors = ['ro', 'bo', 'go', 'yo'] # for now just use 4 colors\n",
    "\n",
    "def plot_clusters(centers, plt):\n",
    "    for i in range(num_centers):\n",
    "        cluster = df.rdd.filter(lambda x: nearest_center(centers, x)[0] == i)\n",
    "        cluster_sample = np.asarray(cluster.sample(False, 0.2).collect())\n",
    "        plt.plot(cluster_sample[:,0], cluster_sample[:,1], colors[i])\n",
    "    "
   ]
  },
  {
   "cell_type": "code",
   "execution_count": 39,
   "metadata": {
    "scrolled": true
   },
   "outputs": [
    {
     "data": {
      "text/plain": [
       "[<matplotlib.lines.Line2D at 0x23129374d30>]"
      ]
     },
     "execution_count": 39,
     "metadata": {},
     "output_type": "execute_result"
    },
    {
     "data": {
      "image/png": "[encoded data removed]",
      "text/plain": [
       "<Figure size 432x288 with 1 Axes>"
      ]
     },
     "metadata": {
      "needs_background": "light"
     },
     "output_type": "display_data"
    }
   ],
   "source": [
    "plt.figure()\n",
    "plt.axis([-10, 10, -10, 10])\n",
    "\n",
    "centers = k_means(df, num_centers)\n",
    "plot_clusters(centers, plt)\n",
    "\n",
    "centers = np.asarray(centers)\n",
    "plt.plot(centers[:,0], centers[:,1], 'mo', markersize = 10)\n"
   ]
  },
  {
   "cell_type": "markdown",
   "metadata": {},
   "source": [
    "# 3. Geographical Contribution Clustering"
   ]
  },
  {
   "cell_type": "markdown",
   "metadata": {},
   "source": [
    "Let's put everything together! First we'll load the required data files."
   ]
  },
  {
   "cell_type": "code",
   "execution_count": 40,
   "metadata": {},
   "outputs": [],
   "source": [
    "zip_codes = sql.read.parquet(\"zip_codes\")"
   ]
  },
  {
   "cell_type": "markdown",
   "metadata": {},
   "source": [
    "Now we'll grab the relevant data we need. We'll join the table of front runners we collected earlier with their contributors' zip codes to get latitudinal and longitudinal data..."
   ]
  },
  {
   "cell_type": "code",
   "execution_count": 41,
   "metadata": {},
   "outputs": [],
   "source": [
    "contrib_zips = \\\n",
    "    front_runners.join(indv, front_runners.CAND_PCC == indv.CMTE_ID) \\\n",
    "    .select(\"CAND_NAME\", \"CAND_ID\", \"ZIP_CODE\")\n",
    "contrib_zips = contrib_zips.withColumn(\"SHORT_ZIP\", contrib_zips.ZIP_CODE.substr(0,5))"
   ]
  },
  {
   "cell_type": "code",
   "execution_count": 42,
   "metadata": {},
   "outputs": [],
   "source": [
    "contrib_locs = \\\n",
    "    contrib_zips.join(zip_codes, contrib_zips.SHORT_ZIP == zip_codes.zip) \\\n",
    "    .select(\"CAND_NAME\", \"latitude\", \"longitude\").cache()"
   ]
  },
  {
   "cell_type": "code",
   "execution_count": 43,
   "metadata": {},
   "outputs": [
    {
     "data": {
      "text/plain": [
       "['TRUMP, DONALD J',\n",
       " 'CLINTON, HILLARY RODHAM',\n",
       " 'SANDERS, BERNARD',\n",
       " 'CRUZ, RAFAEL EDWARD \"TED\"']"
      ]
     },
     "execution_count": 43,
     "metadata": {},
     "output_type": "execute_result"
    }
   ],
   "source": [
    "candidate_names = [x[0] for x in contrib_locs.select(\"CAND_NAME\").distinct().collect()]\n",
    "candidate_names"
   ]
  },
  {
   "cell_type": "code",
   "execution_count": 44,
   "metadata": {},
   "outputs": [],
   "source": [
    "X = {}\n",
    "for candidate in candidate_names:\n",
    "    X[candidate] = contrib_locs.where(contrib_locs.CAND_NAME == candidate) \\\n",
    "        .select(\"latitude\", \"longitude\") \\\n",
    "        .rdd.map(lambda r: np.array([x for x in r])) \\\n",
    "        .coalesce(sc.defaultParallelism).cache()"
   ]
  },
  {
   "cell_type": "markdown",
   "metadata": {},
   "source": [
    "...which will allow us to plot these locations."
   ]
  },
  {
   "cell_type": "code",
   "execution_count": 45,
   "metadata": {},
   "outputs": [],
   "source": [
    "maps = {}\n",
    "for candidate in X:\n",
    "    maps[candidate] = folium.Map(location=[40, -100],\n",
    "           tiles='Stamen Toner',\n",
    "           zoom_start=4)\n",
    "    locs = X[candidate].sample(False, 0.01).collect()\n",
    "    for l in locs:\n",
    "        folium.Marker(l).add_to(maps[candidate])"
   ]
  },
  {
   "cell_type": "code",
   "execution_count": 46,
   "metadata": {},
   "outputs": [
    {
     "data": {
      "text/html": [
       "<div style=\"width:100%;\"><div style=\"position:relative;width:100%;height:0;padding-bottom:60%;\"><iframe src=\"data:text/html;charset=utf-8;base64,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\" style=\"position:absolute;width:100%;height:100%;left:0;top:0;border:none !important;\" allowfullscreen webkitallowfullscreen mozallowfullscreen></iframe></div></div>"
      ],
      "text/plain": [
       "<folium.folium.Map at 0x231294b72e8>"
      ]
     },
     "execution_count": 46,
     "metadata": {},
     "output_type": "execute_result"
    }
   ],
   "source": [
    "maps[u'CRUZ, RAFAEL EDWARD \"TED\"']"
   ]
  },
  {
   "cell_type": "markdown",
   "metadata": {},
   "source": [
    "We can run k-means for each candidate. What's a good value for $k$? Run the K-means algorithm you developed earlier with different values of $k$ to determine the best one."
   ]
  },
  {
   "cell_type": "markdown",
   "metadata": {},
   "source": [
    "### Begin Student Code Here"
   ]
  },
  {
   "cell_type": "code",
   "execution_count": 58,
   "metadata": {},
   "outputs": [],
   "source": [
    "def compute_errors(candidate_locations, k_range):\n",
    "    errors = {}\n",
    "    for c in candidate_locations:\n",
    "        errors[c] = []\n",
    "        for k in k_range:\n",
    "            # For each candidate, test multiple values of k\n",
    "            # TODO\n",
    "            centers = k_means(candidate_locations[c], k)\n",
    "            error = candidate_locations[c].map(lambda p: nearest_center(centers, p)[1]).mean()\n",
    "            errors[c].append(error)\n",
    "            \n",
    "            pass\n",
    "    return errors"
   ]
  },
  {
   "cell_type": "code",
   "execution_count": 59,
   "metadata": {},
   "outputs": [
    {
     "data": {
      "image/png": "[encoded data removed]",
      "text/plain": [
       "<Figure size 432x288 with 1 Axes>"
      ]
     },
     "metadata": {
      "needs_background": "light"
     },
     "output_type": "display_data"
    }
   ],
   "source": [
    "plt.figure()\n",
    "plt.axis([0, 30, 0, 20])\n",
    "k_range = range(2, 32, 4)\n",
    "errors = compute_errors(X, k_range)\n",
    "for c in errors:\n",
    "    plot(k_range, errors[c])"
   ]
  },
  {
   "cell_type": "markdown",
   "metadata": {
    "collapsed": true
   },
   "source": [
    "Now that you've found a suitable value for k, run K-means to compute the desired clusters."
   ]
  },
  {
   "cell_type": "code",
   "execution_count": 70,
   "metadata": {},
   "outputs": [],
   "source": [
    "centers = {}\n",
    "k = 10 # TODO enter the value you found here\n",
    "for c in X:\n",
    "    # Find the cluster centers for each candidate\n",
    "    # TODO\n",
    "    center = k_means(X[c], k)\n",
    "    centers[c] = center\n",
    "    pass"
   ]
  },
  {
   "cell_type": "markdown",
   "metadata": {},
   "source": [
    "### End Student Code Here"
   ]
  },
  {
   "cell_type": "markdown",
   "metadata": {},
   "source": [
    "At last, we have the clusters we want. Here's a nifty visualization."
   ]
  },
  {
   "cell_type": "code",
   "execution_count": 61,
   "metadata": {
    "scrolled": true
   },
   "outputs": [
    {
     "data": {
      "text/html": [
       "<div style=\"width:100%;\"><div style=\"position:relative;width:100%;height:0;padding-bottom:60%;\"><iframe src=\"data:text/html;charset=utf-8;base64,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\" style=\"position:absolute;width:100%;height:100%;left:0;top:0;border:none !important;\" allowfullscreen webkitallowfullscreen mozallowfullscreen></iframe></div></div>"
      ],
      "text/plain": [
       "<folium.folium.Map at 0x231298d7518>"
      ]
     },
     "execution_count": 61,
     "metadata": {},
     "output_type": "execute_result"
    }
   ],
   "source": [
    "colors = dict(zip(centers.keys(), ['blue', 'green','orange', 'red']))\n",
    "centers_map = folium.Map(location=[40, -100],\n",
    "                         zoom_start=4)\n",
    "for candidate in centers: \n",
    "    locs = centers[candidate]\n",
    "    for l in locs:\n",
    "        folium.Marker(l,\n",
    "                      popup=str(l),\n",
    "                      icon=folium.Icon(color=colors[candidate])).add_to(centers_map)\n",
    "centers_map"
   ]
  },
  {
   "cell_type": "markdown",
   "metadata": {},
   "source": [
    "Congratulations! You've successfully implemented a scalable machine learning algorithm on dataset of campaign finance contributions!"
   ]
  }
 ],
 "metadata": {
  "celltoolbar": "Raw Cell Format",
  "kernelspec": {
   "display_name": "Python 3",
   "language": "python",
   "name": "python3"
  },
  "language_info": {
   "codemirror_mode": {
    "name": "ipython",
    "version": 3
   },
   "file_extension": ".py",
   "mimetype": "text/x-python",
   "name": "python",
   "nbconvert_exporter": "python",
   "pygments_lexer": "ipython3",
   "version": "3.7.1"
  }
 },
 "nbformat": 4,
 "nbformat_minor": 1
}
